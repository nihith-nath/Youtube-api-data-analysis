{
 "cells": [
  {
   "cell_type": "code",
   "execution_count": null,
   "id": "3e5597e8-816a-4b00-98b2-f57de09944e7",
   "metadata": {
    "tags": []
   },
   "outputs": [],
   "source": [
    "def get_channels_info(youtube, channels):\n",
    "    all_data = []\n",
    "    request = youtube.channels().list(\n",
    "        part=\"snippet,contentDetails,statistics\",\n",
    "        id=','.join(channels)\n",
    "    )\n",
    "    \n",
    "    ch_response = request.execute()\n",
    "    JSON(ch_response)\n",
    "    for channel_item in ch_response['items']:\n",
    "        ch_data = { \n",
    "            'channel_name' : channel_item['snippet']['title'] ,\n",
    "            'channel_subs' : channel_item['statistics']['subscriberCount'],\n",
    "            'channel_total_views' : channel_item['statistics']['viewCount'],\n",
    "            'channel_total_videos' : channel_item['statistics']['videoCount'],\n",
    "            'channel_playlist_id' : channel_item['contentDetails']['relatedPlaylists']['uploads']\n",
    "        }\n",
    "        all_data.append(ch_data)\n",
    "   \n",
    "    result  = pd.DataFrame(all_data)\n",
    "    result.index = result.index + 1 \n",
    "    return result \n",
    "   \n",
    "    "
   ]
  },
  {
   "cell_type": "code",
   "execution_count": null,
   "id": "40e7145e-2551-4158-a4e2-c263c7ece443",
   "metadata": {},
   "outputs": [],
   "source": [
    "def get_vids_ids1(youtube,channel_playlist_id):\n",
    "    next_page_token = None\n",
    "    vid_list= []\n",
    "    while True:\n",
    "        request = youtube.playlistItems().list(\n",
    "                part=\"snippet,contentDetails\",\n",
    "                maxResults=50,\n",
    "                playlistId=channel_playlist_id,\n",
    "                pageToken=next_page_token\n",
    "            )\n",
    "        vid_response = request.execute()\n",
    "        JSON(vid_response)\n",
    "      \n",
    "        next_page_token= vid_response.get('nextPageToken')\n",
    "   \n",
    "        for vid_item in vid_response['items']:\n",
    "                video_id = vid_item['contentDetails']['videoId']\n",
    "                vid_list.append(video_id)\n",
    "        \n",
    "        if next_page_token== None:\n",
    "            #JSON(vid_response)\n",
    "            break\n",
    "    #print(len(vid_list))\n",
    "    return  vid_list \n",
    "    \n",
    "        \n",
    " "
   ]
  },
  {
   "cell_type": "code",
   "execution_count": null,
   "id": "91ffa44a-ecdd-4bae-8b97-23e6dba56404",
   "metadata": {},
   "outputs": [],
   "source": [
    "def get_vid_info(youtube,v_ids):\n",
    "    all_vid_info_list = []\n",
    "    for i in range(0, len(v_ids),50):\n",
    "        vid_info_req= youtube.videos().list(\n",
    "            part=\"snippet,contentDetails,statistics\",\n",
    "            id=','.join(v_ids[i:i+50])\n",
    "        )\n",
    "        vid_info_response = vid_info_req.execute()\n",
    "        #JSON(vid_info_response)\n",
    "        for vid in vid_info_response['items']:\n",
    "            stats_to_save = { \n",
    "                    'snippet':['channelTitle','channelId','title','publishedAt','description','tags','liveBroadcastContent'],\n",
    "                'contentDetails':['duration','definition','caption'],\n",
    "                'statistics':['viewCount','likeCount','commentCount']\n",
    "            } \n",
    "            video_info={}\n",
    "            video_info['video_id'] = vid['id']\n",
    "            for key in stats_to_save.keys():\n",
    "                for value in stats_to_save[key]:\n",
    "                    try:   \n",
    "                        video_info[value] = vid[key][value]\n",
    "                    except:\n",
    "                        video_info[value] = None\n",
    "            all_vid_info_list.append(video_info)\n",
    "            rsult = pd.DataFrame(all_vid_info_list)\n",
    "            rsult.index  = rsult.index +1\n",
    "    return rsult\n",
    "\n",
    "    \n",
    "        "
   ]
  },
  {
   "cell_type": "code",
   "execution_count": null,
   "id": "5940517d-f8df-4ccd-bbd5-a4c93a78d564",
   "metadata": {},
   "outputs": [],
   "source": [
    "def get_comments1(youtube, v_ids):\n",
    "    all_video_comments = []\n",
    "    for v_id in v_ids:\n",
    "        try:\n",
    "            next_page_token = None\n",
    "            vid_comments = {}\n",
    "            v_com=[]\n",
    "            while True:\n",
    "\n",
    "                comment_request = youtube.commentThreads().list(\n",
    "                        part=\"snippet,replies\",\n",
    "                        videoId=v_id,\n",
    "                        pageToken=next_page_token\n",
    "                    )\n",
    "                comment_response = comment_request.execute()\n",
    "                next_page_token= comment_response.get('nextPageToken')\n",
    "                #print(next_page_token)\n",
    "\n",
    "\n",
    "                for c_resp in comment_response['items']:\n",
    "                    com = c_resp['snippet']['topLevelComment']['snippet']['textOriginal']\n",
    "                    v_com.append(com)\n",
    "\n",
    "\n",
    "                if next_page_token== None:\n",
    "                    #JSON(vid_response)\n",
    "                    vid_comments['Video_id'] = v_id\n",
    "                    vid_comments['comment'] = v_com\n",
    "                    all_video_comments.append(vid_comments)   \n",
    "                    break\n",
    "        except :\n",
    "            #print(\"Encountered http error\")\n",
    "            pass\n",
    "            \n",
    "\n",
    "             \n",
    "    return pd.DataFrame(all_video_comments)"
   ]
  },
  {
   "cell_type": "code",
   "execution_count": 4,
   "id": "366b2e03-42fa-4718-b7ff-653ef7ae2746",
   "metadata": {},
   "outputs": [
    {
     "ename": "SyntaxError",
     "evalue": "invalid syntax (431479923.py, line 1)",
     "output_type": "error",
     "traceback": [
      "\u001b[1;36m  Cell \u001b[1;32mIn[4], line 1\u001b[1;36m\u001b[0m\n\u001b[1;33m    jupyter nbconvert --to script main_file.ipynb\u001b[0m\n\u001b[1;37m            ^\u001b[0m\n\u001b[1;31mSyntaxError\u001b[0m\u001b[1;31m:\u001b[0m invalid syntax\n"
     ]
    }
   ],
   "source": [
    "jupyter nbconvert --to script main_file.ipynb\n",
    "\n",
    "#from main_file.ipynb import provehwrong"
   ]
  },
  {
   "cell_type": "code",
   "execution_count": null,
   "id": "e160055c-eb59-40d3-b7ee-d12c3543638e",
   "metadata": {},
   "outputs": [],
   "source": []
  }
 ],
 "metadata": {
  "kernelspec": {
   "display_name": "Python 3 (ipykernel)",
   "language": "python",
   "name": "python3"
  },
  "language_info": {
   "codemirror_mode": {
    "name": "ipython",
    "version": 3
   },
   "file_extension": ".py",
   "mimetype": "text/x-python",
   "name": "python",
   "nbconvert_exporter": "python",
   "pygments_lexer": "ipython3",
   "version": "3.10.10"
  }
 },
 "nbformat": 4,
 "nbformat_minor": 5
}
